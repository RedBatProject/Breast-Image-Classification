{
  "nbformat": 4,
  "nbformat_minor": 0,
  "metadata": {
    "colab": {
      "name": "stable-diffusion.ipynb",
      "private_outputs": true,
      "provenance": []
    },
    "kernelspec": {
      "name": "python3",
      "display_name": "Python 3"
    },
    "language_info": {
      "name": "python"
    },
    "accelerator": "GPU",
    "gpuClass": "standard"
  },
  "cells": [
    {
      "cell_type": "code",
      "source": [
        "%pip install --quiet --upgrade diffusers transformers accelerate mediapy peft"
      ],
      "metadata": {
        "id": "ufD_d64nr08H"
      },
      "execution_count": null,
      "outputs": []
    },
    {
      "cell_type": "code",
      "source": [
        "import mediapy as media\n",
        "import random\n",
        "import sys\n",
        "import torch\n",
        "\n",
        "from diffusers import DiffusionPipeline, TCDScheduler\n",
        "from huggingface_hub import hf_hub_download"
      ],
      "metadata": {
        "id": "VWsI2EAWRzbh"
      },
      "execution_count": null,
      "outputs": []
    },
    {
      "cell_type": "code",
      "source": [
        "# !wget -O epiCRealismXL.safetensors \"https://civitai.com/api/download/models/471794?type=Model&format=SafeTensor&size=pruned&fp=fp16&token=d4c4ae67ec96fc283f27cb79ad2e3b99\""
      ],
      "metadata": {
        "id": "TrDrHxNLR_K2"
      },
      "execution_count": null,
      "outputs": []
    },
    {
      "cell_type": "code",
      "source": [
        "\n",
        "\n",
        "# Choose either 8 or 12 steps:\n",
        "num_inference_steps = 12\n",
        "\n",
        "base_model_id = \"SG161222/Realistic_Vision_V6.0_B1_noVAE\"\n",
        "# base_model_id = \"stabilityai/stable-diffusion-xl-base-1.0\"\n",
        "from diffusers import DiffusionPipeline\n",
        "\n",
        "# pipeline = DiffusionPipeline.from_pretrained(\"SG161222/Realistic_Vision_V6.0_B1_noVAE\")\n",
        "repo_name = \"ByteDance/Hyper-SD\"\n",
        "plural = \"s\" if num_inference_steps > 1 else \"\"\n",
        "ckpt_name = f\"Hyper-SDXL-{num_inference_steps}step{plural}-CFG-lora.safetensors\"\n",
        "device = \"cuda\"\n"
      ],
      "metadata": {
        "id": "HUieo_FJSf29"
      },
      "execution_count": null,
      "outputs": []
    },
    {
      "cell_type": "code",
      "source": [
        "\"AstraliteHeart/pony-diffusion-v4\""
      ],
      "metadata": {
        "id": "AHOM4QA-UrSt"
      },
      "execution_count": null,
      "outputs": []
    },
    {
      "cell_type": "code",
      "source": [
        "pipe = DiffusionPipeline.from_pretrained(base_model_id, torch_dtype=torch.float16).to(device)\n"
      ],
      "metadata": {
        "id": "1u6WTPA_SguK"
      },
      "execution_count": null,
      "outputs": []
    },
    {
      "cell_type": "code",
      "source": [
        "# hf_hub_download(repo_name, ckpt_name)"
      ],
      "metadata": {
        "id": "wHHb5FowS1XS"
      },
      "execution_count": null,
      "outputs": []
    },
    {
      "cell_type": "code",
      "source": [
        "https://civitai.com/api/download/models/534642"
      ],
      "metadata": {
        "id": "GoaNQD_-U7oF"
      },
      "execution_count": null,
      "outputs": []
    },
    {
      "cell_type": "code",
      "source": [
        "https://civitai.com/api/download/models/534642"
      ],
      "metadata": {
        "id": "h8LS9KZRVntz"
      },
      "execution_count": null,
      "outputs": []
    },
    {
      "cell_type": "code",
      "source": [
        "https://civitai.com/api/download/models/501240"
      ],
      "metadata": {
        "id": "X1xTjD58Zpqj"
      },
      "execution_count": null,
      "outputs": []
    },
    {
      "cell_type": "code",
      "source": [
        "!wget -O epiCRealismXL.safetensors \"https://civitai.com/api/download/models/501240?type=Model&format=SafeTensor&token=d4c4ae67ec96fc283f27cb79ad2e3b99\""
      ],
      "metadata": {
        "id": "y130dTN9U9-Y"
      },
      "execution_count": null,
      "outputs": []
    },
    {
      "cell_type": "code",
      "source": [
        "pipe.load_lora_weights('/content/epiCRealismXL.safetensors')\n",
        "pipe.fuse_lora()\n",
        "pipe.scheduler = TCDScheduler.from_config(pipe.scheduler.config)"
      ],
      "metadata": {
        "id": "bG2hkmSEvByV"
      },
      "execution_count": null,
      "outputs": []
    },
    {
      "cell_type": "code",
      "source": [
        "prompt = \"a photo of Pikachu fine dining with a view to the Eiffel Tower\"\n",
        "seed = random.randint(0, sys.maxsize)\n",
        "\n",
        "# Pick a value between 5.0 and 8.0:\n",
        "guidance_scale = 5.0\n",
        "\n",
        "# Decrease eta (min: 0, max: 1.0) to get more details with multi-step inference:\n",
        "eta = 0.5\n",
        "\n",
        "images = pipe(\n",
        "    prompt = prompt,\n",
        "    num_inference_steps = num_inference_steps,\n",
        "    guidance_scale = guidance_scale,\n",
        "    eta = eta,\n",
        "    generator = torch.Generator(device).manual_seed(seed),\n",
        "    ).images\n",
        "\n",
        "print(f\"Prompt:\\t{prompt}\\nSeed:\\t{seed}\")\n",
        "media.show_images(images)\n",
        "images[0].save(\"output.jpg\")"
      ],
      "metadata": {
        "id": "AUc4QJfE-uR9"
      },
      "execution_count": null,
      "outputs": []
    }
  ]
}